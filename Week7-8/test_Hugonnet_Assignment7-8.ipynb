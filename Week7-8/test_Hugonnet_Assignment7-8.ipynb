{
 "cells": [
    {
     "cell_type": "code",
     "execution_count": null,
     "id": "test-imports",
     "metadata": {},
     "outputs": [],
     "source": [
        "import torch\n",
        "import numpy as np\n",
        "from Hugonnet_Assignment7-8 import Conv2d"
     ]
    },
    {
     "cell_type": "code",
     "execution_count": null,
     "id": "test-conv2d-initialization",
     "metadata": {},
     "outputs": [],
     "source": [
        "# Test Conv2d initialization\n",
        "conv = Conv2d(in_channels=3, out_channels=6, kernel_size=(3, 3), stride=1)\n",
        "assert conv.in_channels == 3\n",
        "assert conv.out_channels == 6\n",
        "assert conv.kernel_size == (3, 3)\n",
        "assert conv.stride == 1\n",
        "assert conv.groups == 1\n",
        "assert conv.weight.size() == (6, 3, 3, 3)\n",
        "assert conv.bias.size() == (6,)\n",
        "print('Conv2d initialization test passed!')"
     ]
    },
    {
     "cell_type": "code",
     "execution_count": null,
     "id": "test-conv2d-forward",
     "metadata": {},
     "outputs": [],
     "source": [
        "# Test Conv2d forward pass\n",
        "x = torch.randn(1, 3, 5, 5)  # input tensor with shape (N, C, H, W)\n",
        "conv = Conv2d(in_channels=3, out_channels=6, kernel_size=(3, 3), stride=1)\n",
        "output = conv.forward(x)\n",
        "assert output.size() == (1, 6, 3, 3)\n",
        "print('Conv2d forward pass test passed!')"
     ]
    }
 ],
 "metadata": {
    "kernelspec": {
     "display_name": "Python 3",
     "language": "python",
     "name": "python3"
    },
    "language_info": {
     "codemirror_mode": {
        "name": "ipython",
        "version": 3
     },
     "file_extension": ".py",
     "mimetype": "text/x-python",
     "name": "python",
     "nbconvert_exporter": "python",
     "pygments_lexer": "ipython3",
     "version": "3.8.8"
    }
 },
 "nbformat": 4,
 "nbformat_minor": 5
}