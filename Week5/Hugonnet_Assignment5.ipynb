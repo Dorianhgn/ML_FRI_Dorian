{
 "cells": [
  {
   "cell_type": "markdown",
   "metadata": {},
   "source": [
    "# Assignment 5"
   ]
  },
  {
   "cell_type": "code",
   "execution_count": 1,
   "metadata": {},
   "outputs": [],
   "source": [
    "import numpy as np \n",
    "import pandas as pd \n",
    "\n",
    "from matplotlib.pyplot import subplots \n",
    "import matplotlib.pyplot as plt\n",
    "\n",
    "\n",
    "from sklearn.model_selection import train_test_split\n",
    "from sklearn.metrics import mean_squared_error\n",
    "from sklearn.metrics import log_loss\n",
    "from sklearn.preprocessing import StandardScaler\n",
    "from sklearn.tree import DecisionTreeRegressor\n",
    "\n",
    "from sklearn.utils import shuffle\n",
    "\n",
    "from tqdm import tqdm"
   ]
  },
  {
   "cell_type": "markdown",
   "metadata": {},
   "source": [
    "## Gradient boosting method\n",
    "So here, if I am right, there is two main methods : One for regression and one other for classification"
   ]
  },
  {
   "cell_type": "markdown",
   "metadata": {},
   "source": [
    "### **Pseudo-Code: Gradient Boosting for Regression**\n",
    "\n",
    "Here’s a structured and refined pseudo-code for Gradient Boosting for Regression based on your notes:\n",
    "\n",
    "---\n",
    "\n",
    "#### **Inputs**:\n",
    "- Training data: $ \\{(X_i, y_i)\\}_{i=1}^n $\n",
    "- Differentiable loss function: $ L(y_i, F(X)) = \\frac{1}{2} (y_i - F(X_i))^2 $\n",
    "- Learning rate: $ \\alpha $\n",
    "- Number of trees: $ M $\n",
    "- Maximum tree depth: $ d $\n",
    "\n",
    "---\n",
    "\n",
    "#### **Step 1: Initialization**\n",
    "1. Compute the **initial prediction** $ F_0 $ as the average of the target values:\n",
    "   $$\n",
    "   F_0 = \\frac{1}{n} \\sum_{i=1}^n y_i\n",
    "   $$\n",
    "\n",
    "---\n",
    "\n",
    "#### **Step 2: Gradient Boosting Loop**\n",
    "For $ m = 1 $ to $ M $ (number of trees):\n",
    "1. **Compute residuals**:\n",
    "   $$\n",
    "   r_{m, i} = -\\frac{\\partial L(y_i, F_{m-1}(X_i))}{\\partial F_{m-1}(X_i)}\n",
    "   $$\n",
    "   For $ L(y_i, F(X)) = \\frac{1}{2}(y_i - F(X))^2 $, this simplifies to:\n",
    "   $$\n",
    "   r_{m, i} = y_i - F_{m-1}(X_i)\n",
    "   $$\n",
    "\n",
    "2. **Fit a regression tree**:\n",
    "   - Train a regression tree $ T_m(X) $ of maximum depth $ d $ on the residuals $ r_{m, i} $.\n",
    "   - The tree splits the data into $ J $ terminal regions (leaves) $ R_{m, j} $.\n",
    "\n",
    "3. **Compute leaf values**:\n",
    "   For each leaf $ R_{m, j} $, compute:\n",
    "   $$\n",
    "   \\gamma_{m, j} = \\text{average of residuals in } R_{m, j}\n",
    "   $$\n",
    "   $$\n",
    "   \\gamma_{m, j} = \\frac{\\sum_{X_i \\in R_{m,j}} r_{m, i}}{|R_{m, j}|}\n",
    "   $$\n",
    "\n",
    "4. **Update the prediction model**:\n",
    "   For each sample $ X_i $:\n",
    "   $$\n",
    "   F_m(X_i) = F_{m-1}(X_i) + \\alpha \\cdot \\gamma_{m, j}, \\quad \\text{where } X_i \\in R_{m,j}\n",
    "   $$\n",
    "\n",
    "---\n",
    "\n",
    "#### **Step 3: Final Prediction**\n",
    "For each sample $ X_i $, compute the final prediction:\n",
    "$$\n",
    "F_M(X_i) = F_0 + \\sum_{m=1}^M \\alpha \\cdot \\gamma_{m, j}, \\quad \\text{where } X_i \\in R_{m,j}\n",
    "$$\n",
    "\n",
    "---\n",
    "\n",
    "#### **Key Notes**\n",
    "1. **Residuals**: Represent the negative gradient of the loss function with respect to the current predictions.\n",
    "2. **Leaf Values**: Each leaf value $ \\gamma_{m,j} $ corrects the predictions of the previous trees.\n",
    "3. **Learning Rate**: $ \\alpha $ controls the step size, preventing overfitting by scaling updates.\n",
    "4. **Stopping Criteria**: Typically, the number of trees $ M $ or early stopping (validation loss) is used.\n",
    "\n",
    "---\n",
    "\n",
    "This pseudo-code is precise and matches your notes while being easy to follow. Let me know if you’d like additional examples or diagrams to illustrate the steps!\n"
   ]
  },
  {
   "cell_type": "markdown",
   "metadata": {},
   "source": [
    "### **Pseudo-Code: Gradient Boosting for Classification**\n",
    "\n",
    "Here’s a structured and refined pseudo-code for Gradient Boosting for Classification based on your notes:\n",
    "\n",
    "---\n",
    "\n",
    "#### **Inputs**:\n",
    "- Training data: $ \\{(X_i, y_i)\\}_{i=1}^n $, where $ y_i \\in \\{0, 1\\} $ (binary classification)\n",
    "- Loss function: Negative log-likelihood:\n",
    "  $$\n",
    "  \\mathcal J  = -y_i \\ln(p) + \\ln(1 + e^{F(X_i)})\n",
    "  $$\n",
    "- Learning rate: $ \\alpha $\n",
    "- Number of trees: $ M $\n",
    "- Maximum tree depth: $ d $\n",
    "\n",
    "---\n",
    "\n",
    "#### **Step 1: Initialization**\n",
    "1. Compute the **initial log-odds**:\n",
    "   $$\n",
    "   F_0(X_i) = \\ln\\left(\\frac{\\text{\\# positive samples}}{\\text{\\# negative samples}}\\right)\n",
    "   $$\n",
    "2. Compute the **initial probability** for each sample:\n",
    "   $$\n",
    "   p_0(X_i) = \\sigma(F_0(X_i)) = \\frac{1}{1 + e^{-F_0(X_i)}}\n",
    "   $$\n",
    "\n",
    "---\n",
    "\n",
    "#### **Step 2: Gradient Boosting Loop**\n",
    "For $ m = 1 $ to $ M $ (number of trees):\n",
    "1. **Compute pseudo-residuals**:\n",
    "   - Residuals are the negative gradient of the loss with respect to $ F(X_i) $:\n",
    "     $$\n",
    "     r_{m, i} = -\\frac{\\partial J}{\\partial F(X_i)} = y_i - p_{m-1}(X_i)\n",
    "     $$\n",
    "\n",
    "2. **Fit a regression tree**:\n",
    "   - Train a regression tree $ T_m(X) $ of maximum depth $ d $ on the pseudo-residuals $ r_{m, i} $.\n",
    "   - The tree splits the data into $ J $ terminal regions (leaves) $ R_{m,j} $.\n",
    "\n",
    "3. **Compute leaf values**:\n",
    "   - For each leaf $ R_{m, j} $, compute:\n",
    "     $$\n",
    "     \\gamma_{m,j} = \\frac{\\sum_{X_i \\in R_{m,j}} r_{m, i}}{\\sum_{X_i \\in R_{m,j}} p_{m-1}(X_i)(1 - p_{m-1}(X_i))}\n",
    "     $$\n",
    "     Where:\n",
    "     - $ p_{m-1}(X_i) = \\sigma(F_{m-1}(X_i)) = \\frac{1}{1 + e^{-F_{m-1}(X_i)}} $\n",
    "\n",
    "4. **Update the prediction model**:\n",
    "   - For each sample $ X_i $:\n",
    "     $$\n",
    "     F_m(X_i) = F_{m-1}(X_i) + \\alpha \\cdot \\gamma_{m,j}, \\quad \\text{where } X_i \\in R_{m,j}\n",
    "     $$\n",
    "\n",
    "---\n",
    "\n",
    "#### **Step 3: Final Prediction**\n",
    "1. Compute the final prediction for each sample $ X_i $:\n",
    "   $$\n",
    "   \\hat{p}(X_i) = \\sigma(F_M(X_i)) = \\frac{1}{1 + e^{-F_M(X_i)}}\n",
    "   $$\n",
    "   Where:\n",
    "   $$\n",
    "   F_M(X_i) = F_0(X_i) + \\sum_{m=1}^M \\alpha \\cdot \\gamma_{m,j}, \\quad \\text{where } X_i \\in R_{m,j}\n",
    "   $$\n",
    "\n",
    "2. Classify samples based on the probability threshold (e.g., $ \\hat{p}(X_i) > 0.5 $).\n",
    "\n",
    "---\n",
    "\n",
    "### **Key Notes**\n",
    "1. **Residuals**:\n",
    "   - Residuals $ r_{m,i} $ approximate the gradient of the loss function.\n",
    "   - These residuals are used to fit regression trees in each iteration.\n",
    "\n",
    "2. **Leaf Values ($ \\gamma_{m,j} $)**:\n",
    "   - Computed as the ratio of the sum of residuals to the sum of the product $ p(1-p) $ within each leaf.\n",
    "\n",
    "3. **Learning Rate ($ \\alpha $)**:\n",
    "   - Scales updates to prevent overfitting and stabilize learning.\n",
    "\n",
    "4. **Final Prediction**:\n",
    "   - Probabilities are derived from the final log-odds $ F_M(X_i) $ using the sigmoid function.\n",
    "\n",
    "---\n",
    "\n",
    "This refined pseudo-code covers all essential steps and aligns with your notes. Let me know if you'd like examples or additional clarifications!"
   ]
  },
  {
   "cell_type": "markdown",
   "metadata": {},
   "source": [
    "## Implement from scratch"
   ]
  },
  {
   "cell_type": "markdown",
   "metadata": {},
   "source": [
    "### Import dataset"
   ]
  },
  {
   "cell_type": "code",
   "execution_count": 69,
   "metadata": {},
   "outputs": [
    {
     "data": {
      "text/html": [
       "<div>\n",
       "<style scoped>\n",
       "    .dataframe tbody tr th:only-of-type {\n",
       "        vertical-align: middle;\n",
       "    }\n",
       "\n",
       "    .dataframe tbody tr th {\n",
       "        vertical-align: top;\n",
       "    }\n",
       "\n",
       "    .dataframe thead th {\n",
       "        text-align: right;\n",
       "    }\n",
       "</style>\n",
       "<table border=\"1\" class=\"dataframe\">\n",
       "  <thead>\n",
       "    <tr style=\"text-align: right;\">\n",
       "      <th></th>\n",
       "      <th>fixed.acidity</th>\n",
       "      <th>volatile.acidity</th>\n",
       "      <th>citric.acid</th>\n",
       "      <th>residual.sugar</th>\n",
       "      <th>chlorides</th>\n",
       "      <th>free.sulfur.dioxide</th>\n",
       "      <th>total.sulfur.dioxide</th>\n",
       "      <th>density</th>\n",
       "      <th>pH</th>\n",
       "      <th>sulphates</th>\n",
       "      <th>alcohol_level</th>\n",
       "    </tr>\n",
       "  </thead>\n",
       "  <tbody>\n",
       "    <tr>\n",
       "      <th>1</th>\n",
       "      <td>7.0</td>\n",
       "      <td>0.27</td>\n",
       "      <td>0.36</td>\n",
       "      <td>20.7</td>\n",
       "      <td>0.045</td>\n",
       "      <td>45.0</td>\n",
       "      <td>170.0</td>\n",
       "      <td>1.0010</td>\n",
       "      <td>3.00</td>\n",
       "      <td>0.45</td>\n",
       "      <td>low</td>\n",
       "    </tr>\n",
       "    <tr>\n",
       "      <th>2</th>\n",
       "      <td>6.3</td>\n",
       "      <td>0.30</td>\n",
       "      <td>0.34</td>\n",
       "      <td>1.6</td>\n",
       "      <td>0.049</td>\n",
       "      <td>14.0</td>\n",
       "      <td>132.0</td>\n",
       "      <td>0.9940</td>\n",
       "      <td>3.30</td>\n",
       "      <td>0.49</td>\n",
       "      <td>low</td>\n",
       "    </tr>\n",
       "    <tr>\n",
       "      <th>3</th>\n",
       "      <td>8.1</td>\n",
       "      <td>0.28</td>\n",
       "      <td>0.40</td>\n",
       "      <td>6.9</td>\n",
       "      <td>0.050</td>\n",
       "      <td>30.0</td>\n",
       "      <td>97.0</td>\n",
       "      <td>0.9951</td>\n",
       "      <td>3.26</td>\n",
       "      <td>0.44</td>\n",
       "      <td>high</td>\n",
       "    </tr>\n",
       "    <tr>\n",
       "      <th>4</th>\n",
       "      <td>7.2</td>\n",
       "      <td>0.23</td>\n",
       "      <td>0.32</td>\n",
       "      <td>8.5</td>\n",
       "      <td>0.058</td>\n",
       "      <td>47.0</td>\n",
       "      <td>186.0</td>\n",
       "      <td>0.9956</td>\n",
       "      <td>3.19</td>\n",
       "      <td>0.40</td>\n",
       "      <td>low</td>\n",
       "    </tr>\n",
       "    <tr>\n",
       "      <th>5</th>\n",
       "      <td>7.2</td>\n",
       "      <td>0.23</td>\n",
       "      <td>0.32</td>\n",
       "      <td>8.5</td>\n",
       "      <td>0.058</td>\n",
       "      <td>47.0</td>\n",
       "      <td>186.0</td>\n",
       "      <td>0.9956</td>\n",
       "      <td>3.19</td>\n",
       "      <td>0.40</td>\n",
       "      <td>low</td>\n",
       "    </tr>\n",
       "  </tbody>\n",
       "</table>\n",
       "</div>"
      ],
      "text/plain": [
       "   fixed.acidity  volatile.acidity  citric.acid  residual.sugar  chlorides  \\\n",
       "1            7.0              0.27         0.36            20.7      0.045   \n",
       "2            6.3              0.30         0.34             1.6      0.049   \n",
       "3            8.1              0.28         0.40             6.9      0.050   \n",
       "4            7.2              0.23         0.32             8.5      0.058   \n",
       "5            7.2              0.23         0.32             8.5      0.058   \n",
       "\n",
       "   free.sulfur.dioxide  total.sulfur.dioxide  density    pH  sulphates  \\\n",
       "1                 45.0                 170.0   1.0010  3.00       0.45   \n",
       "2                 14.0                 132.0   0.9940  3.30       0.49   \n",
       "3                 30.0                  97.0   0.9951  3.26       0.44   \n",
       "4                 47.0                 186.0   0.9956  3.19       0.40   \n",
       "5                 47.0                 186.0   0.9956  3.19       0.40   \n",
       "\n",
       "  alcohol_level  \n",
       "1           low  \n",
       "2           low  \n",
       "3          high  \n",
       "4           low  \n",
       "5           low  "
      ]
     },
     "execution_count": 69,
     "metadata": {},
     "output_type": "execute_result"
    }
   ],
   "source": [
    "# Load the dataset\n",
    "df = pd.read_csv('data/wine_quality.csv', index_col=0)\n",
    "\n",
    "X = df.drop(['quality', 'X'], axis=1)\n",
    "y = df.quality\n",
    "\n",
    "X.head()"
   ]
  },
  {
   "cell_type": "code",
   "execution_count": 70,
   "metadata": {},
   "outputs": [
    {
     "data": {
      "text/html": [
       "<div>\n",
       "<style scoped>\n",
       "    .dataframe tbody tr th:only-of-type {\n",
       "        vertical-align: middle;\n",
       "    }\n",
       "\n",
       "    .dataframe tbody tr th {\n",
       "        vertical-align: top;\n",
       "    }\n",
       "\n",
       "    .dataframe thead th {\n",
       "        text-align: right;\n",
       "    }\n",
       "</style>\n",
       "<table border=\"1\" class=\"dataframe\">\n",
       "  <thead>\n",
       "    <tr style=\"text-align: right;\">\n",
       "      <th></th>\n",
       "      <th>low</th>\n",
       "    </tr>\n",
       "  </thead>\n",
       "  <tbody>\n",
       "    <tr>\n",
       "      <th>1</th>\n",
       "      <td>True</td>\n",
       "    </tr>\n",
       "    <tr>\n",
       "      <th>2</th>\n",
       "      <td>True</td>\n",
       "    </tr>\n",
       "    <tr>\n",
       "      <th>3</th>\n",
       "      <td>True</td>\n",
       "    </tr>\n",
       "    <tr>\n",
       "      <th>4</th>\n",
       "      <td>True</td>\n",
       "    </tr>\n",
       "    <tr>\n",
       "      <th>5</th>\n",
       "      <td>True</td>\n",
       "    </tr>\n",
       "  </tbody>\n",
       "</table>\n",
       "</div>"
      ],
      "text/plain": [
       "    low\n",
       "1  True\n",
       "2  True\n",
       "3  True\n",
       "4  True\n",
       "5  True"
      ]
     },
     "execution_count": 70,
     "metadata": {},
     "output_type": "execute_result"
    }
   ],
   "source": [
    "X = pd.get_dummies(X, drop_first=True)\n",
    "y = pd.get_dummies(y, drop_first=True)\n",
    "y.head()"
   ]
  },
  {
   "cell_type": "code",
   "execution_count": 71,
   "metadata": {},
   "outputs": [
    {
     "data": {
      "text/plain": [
       "fixed.acidity           0\n",
       "volatile.acidity        0\n",
       "citric.acid             0\n",
       "residual.sugar          0\n",
       "chlorides               0\n",
       "free.sulfur.dioxide     0\n",
       "total.sulfur.dioxide    0\n",
       "density                 0\n",
       "pH                      0\n",
       "sulphates               0\n",
       "alcohol_level_low       0\n",
       "dtype: int64"
      ]
     },
     "execution_count": 71,
     "metadata": {},
     "output_type": "execute_result"
    }
   ],
   "source": [
    "# Deal with missing values\n",
    "X.isnull().sum()\n",
    "# Well no need to deal with them fortunately"
   ]
  },
  {
   "cell_type": "markdown",
   "metadata": {},
   "source": [
    "### Classification Gradient Boosting"
   ]
  },
  {
   "cell_type": "code",
   "execution_count": 72,
   "metadata": {},
   "outputs": [],
   "source": [
    "# define the gradient boosting tree class\n",
    "class GradientBoostingTree:\n",
    "    def __init__(self, n_estimators=100, learning_rate=0.001, max_depth=3):\n",
    "        self.n_estimators = n_estimators\n",
    "        self.learning_rate = learning_rate\n",
    "        self.max_depth = max_depth\n",
    "        self.trees = []\n",
    "        self.gammas = []\n",
    "        self.F_0 = None\n",
    "\n",
    "    def fit(self, X, y):\n",
    "        # Step 1: Initialization\n",
    "        # 1.1 initial log-odds:\n",
    "        self.F_0 = np.log(np.mean(y) / (1 - np.mean(y)))\n",
    "        F_prev = np.ones(len(y)) * self.F_0\n",
    "\n",
    "        # Step 2: gradient boosting loop for m = 1 to M (n_estimators):\n",
    "        for m in tqdm(range(self.n_estimators)):\n",
    "            p_prev = 1 / (1 + np.exp(-F_prev))\n",
    "            # 2.1: Compute the pseudo-residuals\n",
    "            residuals = y - p_prev\n",
    "\n",
    "            # 2.2: Fit a regression tree to the residuals\n",
    "            tree = DecisionTreeRegressor(max_depth=self.max_depth)\n",
    "            tree.fit(X, residuals)\n",
    "\n",
    "            # Save the tree\n",
    "            self.trees.append(tree)\n",
    "\n",
    "            # 2.3: Compute the gammas for each leaf (extract from tree)\n",
    "            leaf_indices = tree.apply(X)\n",
    "            \n",
    "            gamma = {}\n",
    "            for leaf in np.unique(leaf_indices):\n",
    "                # Get indices of samples in the current leaf. ndarray of shape (n_samples,)\n",
    "                in_leaf = leaf_indices == leaf\n",
    "\n",
    "                # the numerator is the sum of residuals in the leaf\n",
    "                numerator = np.sum(residuals[in_leaf])\n",
    "                # the denominator is the sum of the p(1-p) in the leaf\n",
    "                denominator = np.sum(p_prev[in_leaf] * (1 - p_prev[in_leaf]))\n",
    "\n",
    "                # Avoid division by zero\n",
    "                gamma[leaf] = numerator / denominator if denominator != 0 else 0\n",
    "\n",
    "            # store the gamma values\n",
    "            self.gammas.append(gamma)\n",
    "\n",
    "            # 2.4: Uptade the prediction model \n",
    "            for i in range(len(F_prev)):\n",
    "                F_prev += self.learning_rate * gamma[leaf_indices[i]]\n",
    "\n",
    "    def predict(self, X):\n",
    "        F = np.ones(X.shape[0]) * self.F_0\n",
    "\n",
    "        for m in tqdm(range(self.n_estimators)):\n",
    "            gamma = self.gammas[m]\n",
    "            tree = self.trees[m]\n",
    "            leaf_indices = tree.apply(X)\n",
    "            for i in range(len(F)):\n",
    "                F[i] += self.learning_rate * gamma[leaf_indices[i]]\n",
    "\n",
    "        # Return the probability\n",
    "        return 1 / (1 + np.exp(-F))"
   ]
  },
  {
   "cell_type": "code",
   "execution_count": 73,
   "metadata": {},
   "outputs": [
    {
     "name": "stderr",
     "output_type": "stream",
     "text": [
      "  0%|          | 0/5 [00:00<?, ?it/s]"
     ]
    },
    {
     "name": "stderr",
     "output_type": "stream",
     "text": [
      "100%|██████████| 5/5 [00:05<00:00,  1.15s/it]\n"
     ]
    }
   ],
   "source": [
    "# Split the data\n",
    "X_train, X_test, y_train, y_test = train_test_split(X.values, y.values, test_size=0.2, random_state=1)\n",
    "\n",
    "# Standardize the data\n",
    "scaler = StandardScaler()\n",
    "X_train = scaler.fit_transform(X_train)\n",
    "X_test = scaler.transform(X_test)\n",
    "\n",
    "# Train the model\n",
    "gbt = GradientBoostingTree(n_estimators=5, learning_rate=0.001, max_depth=3)\n",
    "gbt.fit(X_train, y_train)\n"
   ]
  },
  {
   "cell_type": "code",
   "execution_count": 74,
   "metadata": {},
   "outputs": [
    {
     "name": "stderr",
     "output_type": "stream",
     "text": [
      "100%|██████████| 5/5 [00:00<00:00, 1058.21it/s]"
     ]
    },
    {
     "name": "stdout",
     "output_type": "stream",
     "text": [
      "log loss: 8.13\n",
      "Accuracy: 0.77\n",
      "F1 Score: 0.87\n"
     ]
    },
    {
     "name": "stderr",
     "output_type": "stream",
     "text": [
      "\n"
     ]
    }
   ],
   "source": [
    "from sklearn.metrics import f1_score\n",
    "from sklearn.metrics import accuracy_score\n",
    "\n",
    "# Make predictions\n",
    "y_pred = gbt.predict(X_test)\n",
    "y_pred_round = np.round(y_pred)\n",
    "\n",
    "print(f'log loss: {log_loss(y_test, y_pred):.2f}')\n",
    "# Evaluate the model with the accuracy and F1 score\n",
    "print(f'Accuracy: {accuracy_score(y_test, y_pred_round):.2f}')\n",
    "print(f'F1 Score: {f1_score(y_test, y_pred_round):.2f}')"
   ]
  },
  {
   "cell_type": "code",
   "execution_count": 75,
   "metadata": {},
   "outputs": [],
   "source": [
    "from joblib import Parallel, delayed"
   ]
  },
  {
   "cell_type": "code",
   "execution_count": 76,
   "metadata": {},
   "outputs": [],
   "source": [
    "def cross_validate(model, X, y, k=5, method='predict', n_jobs=-1):\n",
    "    \"\"\"\n",
    "    Perform cross-validation with optional parallelization.\n",
    "    \n",
    "    Parameters:\n",
    "        model: The model to be cross-validated.\n",
    "        X: Features (numpy array or pandas DataFrame).\n",
    "        y: Target (numpy array or pandas Series).\n",
    "        k: Number of folds.\n",
    "        method: 'predict' or 'predict_proba'.\n",
    "        n_jobs: Number of parallel jobs (-1 to use all CPUs).\n",
    "    \n",
    "    Returns:\n",
    "        Mean log-loss score across folds.\n",
    "    \"\"\"\n",
    "    fold_size = len(X) // k\n",
    "    indices = np.arange(len(X))\n",
    "    np.random.shuffle(indices)\n",
    "\n",
    "    def process_fold(i):\n",
    "        # Split indices for the current fold\n",
    "        val_indices = indices[i * fold_size: (i + 1) * fold_size]\n",
    "        train_indices = np.concatenate([indices[:i * fold_size], indices[(i + 1) * fold_size:]])\n",
    "        \n",
    "        # Prepare train and validation sets\n",
    "        X_train, X_val = X[train_indices], X[val_indices]\n",
    "        y_train, y_val = y[train_indices], y[val_indices]\n",
    "\n",
    "        # Scale the data\n",
    "        scaler = StandardScaler()\n",
    "        X_train = scaler.fit_transform(X_train)\n",
    "        X_val = scaler.transform(X_val)\n",
    "        \n",
    "        # Train the model\n",
    "        model.fit(X_train, y_train)\n",
    "        if method == 'predict':\n",
    "            y_pred = model.predict(X_val)\n",
    "        elif method == 'predict_proba':\n",
    "            y_pred = model.predict_proba(X_val)\n",
    "        else:\n",
    "            raise ValueError('Invalid method')\n",
    "\n",
    "        # Calculate log-loss for the current fold\n",
    "        return log_loss(y_val, y_pred)\n",
    "\n",
    "    # Parallelize the processing of each fold\n",
    "    log_losses_scores = Parallel(n_jobs=n_jobs)(delayed(process_fold)(i) for i in range(k))\n",
    "    \n",
    "    return np.mean(log_losses_scores)"
   ]
  },
  {
   "cell_type": "code",
   "execution_count": 77,
   "metadata": {},
   "outputs": [],
   "source": [
    "# def cross_validate(model, X, y, k=5, method='predict'):\n",
    "#     fold_size = len(X) // k\n",
    "#     indices = np.arange(len(X))\n",
    "#     np.random.shuffle(indices)\n",
    "    \n",
    "#     log_losses_scores = []\n",
    "    \n",
    "#     for i in range(k):\n",
    "#         val_indices = indices[i * fold_size: (i + 1) * fold_size]\n",
    "#         train_indices = np.concatenate([indices[:i * fold_size], indices[(i + 1) * fold_size:]])\n",
    "        \n",
    "#         X_train, X_val = X[train_indices], X[val_indices]\n",
    "#         y_train, y_val = y[train_indices], y[val_indices]\n",
    "\n",
    "#         # scale the data\n",
    "#         scaler = StandardScaler()\n",
    "#         X_train = scaler.fit_transform(X_train)\n",
    "#         X_val = scaler.transform(X_val)\n",
    "        \n",
    "#         model.fit(X_train, y_train)\n",
    "#         if method == 'predict':\n",
    "#             y_pred = model.predict(X_val)\n",
    "#         elif method == 'predict_proba':\n",
    "#             y_pred = model.predict_proba(X_val)\n",
    "#         else:\n",
    "#             raise ValueError('Invalid method')\n",
    "\n",
    "#         log_loss_score = log_loss(y_val, y_pred)\n",
    "#         log_losses_scores.append(log_loss_score)\n",
    "\n",
    "#     return np.mean(log_losses_scores)"
   ]
  },
  {
   "cell_type": "code",
   "execution_count": null,
   "metadata": {},
   "outputs": [],
   "source": [
    "# perform cross validation\n",
    "gbt = GradientBoostingTree(n_estimators=5, learning_rate=0.001, max_depth=3)\n",
    "log_loss_score = cross_validate(gbt, X.values, y.values)"
   ]
  },
  {
   "cell_type": "code",
   "execution_count": 83,
   "metadata": {},
   "outputs": [
    {
     "name": "stdout",
     "output_type": "stream",
     "text": [
      "Mean 5-fold Cross Validation log-loss score: 0.76\n"
     ]
    }
   ],
   "source": [
    "print(f'Mean 5-fold Cross Validation log-loss score: {log_loss_score:.2f}')"
   ]
  },
  {
   "cell_type": "markdown",
   "metadata": {},
   "source": [
    "### Test different learning rates\n",
    "Here for each learning rate, we are performing cross validation."
   ]
  },
  {
   "cell_type": "code",
   "execution_count": null,
   "metadata": {},
   "outputs": [],
   "source": [
    "# Test different learning rates\n",
    "learning_rates = np.logspace(-6, -3.5, 10)\n",
    "log_losses = []\n",
    "\n",
    "for lr in learning_rates:\n",
    "    gbt = GradientBoostingTree(n_estimators=3, learning_rate=lr, max_depth=3)\n",
    "    log_loss_score = cross_validate(gbt, X.values, y.values, n_jobs=-1)\n",
    "    log_losses.append(log_loss_score)"
   ]
  },
  {
   "cell_type": "code",
   "execution_count": null,
   "metadata": {},
   "outputs": [
    {
     "data": {
      "image/png": "[encoded data removed]",
      "text/plain": [
       "<Figure size 640x480 with 1 Axes>"
      ]
     },
     "metadata": {},
     "output_type": "display_data"
    }
   ],
   "source": [
    "# plot the results\n",
    "fig, ax = subplots()\n",
    "ax.plot(learning_rates, log_losses, marker='o')\n",
    "ax.set_xlabel('Learning rate')\n",
    "ax.set_ylabel('Log loss')\n",
    "ax.set_xscale('log')\n",
    "ax.set_title('Log loss vs learning rate')\n",
    "plt.show()"
   ]
  },
  {
   "cell_type": "code",
   "execution_count": null,
   "metadata": {},
   "outputs": [
    {
     "name": "stdout",
     "output_type": "stream",
     "text": [
      "Best learning rate: 8.80e-05\n"
     ]
    }
   ],
   "source": [
    "# extract the best learning rate\n",
    "best_lr = learning_rates[np.argmin(log_losses)]\n",
    "print(f'Best learning rate: {best_lr:.2e}')"
   ]
  },
  {
   "cell_type": "markdown",
   "metadata": {},
   "source": [
    "### Test different number of trees build for the model"
   ]
  },
  {
   "cell_type": "code",
   "execution_count": 79,
   "metadata": {},
   "outputs": [
    {
     "name": "stdout",
     "output_type": "stream",
     "text": [
      "Best learning rate: 7.94e-05\n",
      "Best number of estimators: 3\n",
      "Best log loss: 0.4464\n",
      "    n_estimators  learning_rate  log_loss\n",
      "0              1       0.000010  0.516033\n",
      "1              2       0.000010  0.509481\n",
      "2              3       0.000010  0.503185\n",
      "3              4       0.000010  0.496420\n",
      "4              5       0.000010  0.492154\n",
      "5              1       0.000020  0.509742\n",
      "6              2       0.000020  0.496488\n",
      "7              3       0.000020  0.486744\n",
      "8              4       0.000020  0.475074\n",
      "9              5       0.000020  0.471537\n",
      "10             1       0.000040  0.496912\n",
      "11             2       0.000040  0.476396\n",
      "12             3       0.000040  0.460138\n",
      "13             4       0.000040  0.449367\n",
      "14             5       0.000040  0.449185\n",
      "15             1       0.000079  0.477863\n",
      "16             2       0.000079  0.453307\n",
      "17             3       0.000079  0.446374\n",
      "18             4       0.000079  0.473929\n",
      "19             5       0.000079  0.498852\n",
      "20             1       0.000158  0.454812\n",
      "21             2       0.000158  0.464238\n",
      "22             3       0.000158  0.535632\n",
      "23             4       0.000158  0.617989\n",
      "24             5       0.000158  0.764872\n"
     ]
    }
   ],
   "source": [
    "# Perform grid search\n",
    "n_estimators = np.arange(1, 6, 1)\n",
    "learning_rates = np.logspace(-5, -3.8, 5)\n",
    "results = []  # To store hyperparameters and log losses\n",
    "\n",
    "for lr in learning_rates:\n",
    "    for n in n_estimators:\n",
    "        gbt = GradientBoostingTree(n_estimators=n, learning_rate=lr, max_depth=3)\n",
    "        log_loss_score = cross_validate(gbt, X.values, y.values, n_jobs=-1)\n",
    "        results.append({'n_estimators': n, 'learning_rate': lr, 'log_loss': log_loss_score})\n",
    "\n",
    "# Convert results to a DataFrame\n",
    "results_df = pd.DataFrame(results)\n",
    "\n",
    "# Find the best hyperparameters\n",
    "best_row = results_df.loc[results_df['log_loss'].idxmin()]\n",
    "\n",
    "print(f\"Best learning rate: {best_row['learning_rate']:.2e}\")\n",
    "print(f\"Best number of estimators: {int(best_row['n_estimators'])}\")\n",
    "print(f\"Best log loss: {best_row['log_loss']:.4f}\")\n",
    "\n",
    "# Display the full results DataFrame\n",
    "print(results_df)"
   ]
  },
  {
   "cell_type": "code",
   "execution_count": 80,
   "metadata": {},
   "outputs": [],
   "source": [
    "best_lr = best_row['learning_rate']"
   ]
  },
  {
   "cell_type": "markdown",
   "metadata": {},
   "source": [
    "## Compare the results with Sklearn Model"
   ]
  },
  {
   "cell_type": "code",
   "execution_count": 25,
   "metadata": {},
   "outputs": [
    {
     "name": "stdout",
     "output_type": "stream",
     "text": [
      "Custom model log loss: 0.45\n",
      "Sklearn model log loss: 0.52\n"
     ]
    }
   ],
   "source": [
    "from sklearn.ensemble import GradientBoostingClassifier\n",
    "from sklearn.model_selection import cross_val_predict\n",
    "\n",
    "# Configure the model with the best learning rate\n",
    "gbt = GradientBoostingTree(n_estimators=3, learning_rate=best_lr, max_depth=3)\n",
    "gbt_sklearn = GradientBoostingClassifier(n_estimators=3, learning_rate=best_lr, max_depth=3)\n",
    "\n",
    "# Compute the log loss for both models using 5-fold cross validation\n",
    "log_loss_score = cross_validate(gbt, X.values, y.values)\n",
    "sklearn_log_loss_score = cross_validate(gbt_sklearn, X.values, y.values, method='predict_proba')\n",
    "\n",
    "# Evaluate the model with the log loss for both models\n",
    "print(f'Custom model log loss: {log_loss_score:.2f}')\n",
    "print(f'Sklearn model log loss: {sklearn_log_loss_score:.2f}')"
   ]
  },
  {
   "cell_type": "markdown",
   "metadata": {},
   "source": [
    "## XgBoost"
   ]
  },
  {
   "cell_type": "code",
   "execution_count": 34,
   "metadata": {},
   "outputs": [
    {
     "name": "stdout",
     "output_type": "stream",
     "text": [
      "Fitting 5 folds for each of 108 candidates, totalling 540 fits\n",
      "Best parameters: {'colsample_bytree': 1.0, 'learning_rate': 0.1, 'max_depth': 7, 'n_estimators': 100, 'subsample': 0.8}\n",
      "Best log loss: -0.32\n"
     ]
    },
    {
     "name": "stderr",
     "output_type": "stream",
     "text": [
      "c:\\Users\\doria\\Documents\\pythonEnv\\dataScience\\Lib\\site-packages\\xgboost\\core.py:158: UserWarning: [23:31:46] WARNING: C:\\buildkite-agent\\builds\\buildkite-windows-cpu-autoscaling-group-i-0c55ff5f71b100e98-1\\xgboost\\xgboost-ci-windows\\src\\learner.cc:740: \n",
      "Parameters: { \"use_label_encoder\" } are not used.\n",
      "\n",
      "  warnings.warn(smsg, UserWarning)\n"
     ]
    }
   ],
   "source": [
    "import xgboost as xgb\n",
    "from sklearn.model_selection import GridSearchCV\n",
    "\n",
    "# Define the parameter grid\n",
    "param_grid = {\n",
    "    'n_estimators': [50, 100, 200],\n",
    "    'learning_rate': [0.01, 0.1, 0.2],\n",
    "    'max_depth': [3, 5, 7],\n",
    "    'subsample': [0.8, 1.0],\n",
    "    'colsample_bytree': [0.8, 1.0]\n",
    "}\n",
    "\n",
    "# Initialize the XGBoost classifier\n",
    "xgb_clf = xgb.XGBClassifier(use_label_encoder=False, eval_metric='logloss')\n",
    "\n",
    "# Initialize GridSearchCV\n",
    "grid_search = GridSearchCV(estimator=xgb_clf, param_grid=param_grid, scoring='neg_log_loss', cv=5, n_jobs=-1, verbose=1)\n",
    "\n",
    "# Fit GridSearchCV\n",
    "grid_search.fit(X_train, y_train)\n",
    "\n",
    "# Get the best parameters and the best score\n",
    "best_params = grid_search.best_params_\n",
    "best_score = grid_search.best_score_\n",
    "\n",
    "print(f'Best parameters: {best_params}')\n",
    "print(f'Best log loss: {best_score:.2f}')"
   ]
  },
  {
   "cell_type": "markdown",
   "metadata": {},
   "source": [
    "## Results summary"
   ]
  },
  {
   "cell_type": "markdown",
   "metadata": {},
   "source": []
  }
 ],
 "metadata": {
  "kernelspec": {
   "display_name": "dataScience",
   "language": "python",
   "name": "python3"
  },
  "language_info": {
   "codemirror_mode": {
    "name": "ipython",
    "version": 3
   },
   "file_extension": ".py",
   "mimetype": "text/x-python",
   "name": "python",
   "nbconvert_exporter": "python",
   "pygments_lexer": "ipython3",
   "version": "3.12.6"
  }
 },
 "nbformat": 4,
 "nbformat_minor": 2
}
