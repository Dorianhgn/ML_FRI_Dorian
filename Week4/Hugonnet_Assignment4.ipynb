{
 "cells": [
  {
   "cell_type": "markdown",
   "metadata": {},
   "source": [
    "# Assignment 4"
   ]
  },
  {
   "cell_type": "markdown",
   "metadata": {},
   "source": [
    "## Implement regression tree algorithm from scratch\n",
    "\n",
    "- Recursive binary splitting: We first take the predicator $X_j$ and the cut point $s$ such that we split the space in two regions ${X|X_j < s}$ and ${X|X_j > s}$ leads to the **greatest possible reduction in RSS**.\n",
    "- For any $j$ and $s$ we define the pair of half-planes\n",
    "- So if our data set contains many features $(X_n)_{n \\in \\mathbb N}$, I think we do some cross validation on all splits ${X|X_j < s}$ and ${X|X_j > s}$ for all $0 \\le j \\le n$ and then take make a node on the one that split it with the greatest reduction in RSS.\n",
    "\n",
    "The goal is to find the boxes $R1,\\dots,R_J$ that minimze the RSS.\n",
    "\n",
    "-> **Question**: how do we find the right amount of boxes $J$? \n",
    "- We have to put a criteria of minimum data in one box. Usually its around 20 from what I recall."
   ]
  },
  {
   "cell_type": "markdown",
   "metadata": {},
   "source": []
  }
 ],
 "metadata": {
  "kernelspec": {
   "display_name": "dataScience",
   "language": "python",
   "name": "python3"
  },
  "language_info": {
   "name": "python",
   "version": "3.12.6"
  }
 },
 "nbformat": 4,
 "nbformat_minor": 2
}
